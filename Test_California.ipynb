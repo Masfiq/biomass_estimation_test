version https://git-lfs.github.com/spec/v1
oid sha256:bc3fdc56266b25da157edde0d3d75a78c3e93d4d90f9c7217eb538b54c9f1b63
size 6044245
